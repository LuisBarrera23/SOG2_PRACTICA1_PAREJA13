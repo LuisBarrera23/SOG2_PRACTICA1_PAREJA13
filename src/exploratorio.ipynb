{
 "cells": [
  {
   "cell_type": "markdown",
   "metadata": {},
   "source": [
    "# ANALISIS EXPLORATORIO\n",
    "instalamos librerias primero para poder realizar el analisis y obtencion de datos.\n",
    "```pip install mysql-connector-python pandas matplotlib seaborn```"
   ]
  },
  {
   "cell_type": "code",
   "execution_count": 20,
   "metadata": {},
   "outputs": [
    {
     "data": {
      "text/html": [
       "<div>\n",
       "<style scoped>\n",
       "    .dataframe tbody tr th:only-of-type {\n",
       "        vertical-align: middle;\n",
       "    }\n",
       "\n",
       "    .dataframe tbody tr th {\n",
       "        vertical-align: top;\n",
       "    }\n",
       "\n",
       "    .dataframe thead th {\n",
       "        text-align: right;\n",
       "    }\n",
       "</style>\n",
       "<table border=\"1\" class=\"dataframe\">\n",
       "  <thead>\n",
       "    <tr style=\"text-align: right;\">\n",
       "      <th></th>\n",
       "      <th>id_orden</th>\n",
       "      <th>fecha_compra</th>\n",
       "      <th>id_cliente</th>\n",
       "      <th>genero_cliente</th>\n",
       "      <th>edad_cliente</th>\n",
       "      <th>categoria_producto</th>\n",
       "      <th>nombre_producto</th>\n",
       "      <th>precio_producto</th>\n",
       "      <th>cantidad_comprada</th>\n",
       "      <th>total_orden</th>\n",
       "      <th>metodo_pago</th>\n",
       "      <th>region_envio</th>\n",
       "    </tr>\n",
       "  </thead>\n",
       "  <tbody>\n",
       "    <tr>\n",
       "      <th>0</th>\n",
       "      <td>1</td>\n",
       "      <td>2023-07-23</td>\n",
       "      <td>103</td>\n",
       "      <td>Femenino</td>\n",
       "      <td>76</td>\n",
       "      <td>Ropa</td>\n",
       "      <td>Chaqueta</td>\n",
       "      <td>150.97</td>\n",
       "      <td>2</td>\n",
       "      <td>301.94</td>\n",
       "      <td>Efectivo</td>\n",
       "      <td>Centro</td>\n",
       "    </tr>\n",
       "    <tr>\n",
       "      <th>1</th>\n",
       "      <td>2</td>\n",
       "      <td>2020-07-23</td>\n",
       "      <td>436</td>\n",
       "      <td>Masculino</td>\n",
       "      <td>49</td>\n",
       "      <td>Accesorios</td>\n",
       "      <td>Reloj</td>\n",
       "      <td>157.99</td>\n",
       "      <td>3</td>\n",
       "      <td>473.97</td>\n",
       "      <td>Efectivo</td>\n",
       "      <td>Norte</td>\n",
       "    </tr>\n",
       "    <tr>\n",
       "      <th>2</th>\n",
       "      <td>3</td>\n",
       "      <td>2029-07-23</td>\n",
       "      <td>861</td>\n",
       "      <td>Masculino</td>\n",
       "      <td>38</td>\n",
       "      <td>Accesorios</td>\n",
       "      <td>Gorro</td>\n",
       "      <td>81.20</td>\n",
       "      <td>1</td>\n",
       "      <td>81.20</td>\n",
       "      <td>PayPal</td>\n",
       "      <td>Centro</td>\n",
       "    </tr>\n",
       "    <tr>\n",
       "      <th>3</th>\n",
       "      <td>4</td>\n",
       "      <td>2021-11-23</td>\n",
       "      <td>271</td>\n",
       "      <td>Femenino</td>\n",
       "      <td>57</td>\n",
       "      <td>Calzado</td>\n",
       "      <td>Pantuflas</td>\n",
       "      <td>155.28</td>\n",
       "      <td>5</td>\n",
       "      <td>776.40</td>\n",
       "      <td>Efectivo</td>\n",
       "      <td>Oeste</td>\n",
       "    </tr>\n",
       "    <tr>\n",
       "      <th>4</th>\n",
       "      <td>5</td>\n",
       "      <td>2012-02-23</td>\n",
       "      <td>107</td>\n",
       "      <td>Femenino</td>\n",
       "      <td>45</td>\n",
       "      <td>Ropa</td>\n",
       "      <td>Camiseta</td>\n",
       "      <td>11.24</td>\n",
       "      <td>2</td>\n",
       "      <td>22.48</td>\n",
       "      <td>Tarjeta de crédito</td>\n",
       "      <td>Centro</td>\n",
       "    </tr>\n",
       "  </tbody>\n",
       "</table>\n",
       "</div>"
      ],
      "text/plain": [
       "   id_orden fecha_compra  id_cliente genero_cliente  edad_cliente  \\\n",
       "0         1   2023-07-23         103       Femenino            76   \n",
       "1         2   2020-07-23         436      Masculino            49   \n",
       "2         3   2029-07-23         861      Masculino            38   \n",
       "3         4   2021-11-23         271       Femenino            57   \n",
       "4         5   2012-02-23         107       Femenino            45   \n",
       "\n",
       "  categoria_producto nombre_producto precio_producto  cantidad_comprada  \\\n",
       "0               Ropa        Chaqueta          150.97                  2   \n",
       "1         Accesorios           Reloj          157.99                  3   \n",
       "2         Accesorios           Gorro           81.20                  1   \n",
       "3            Calzado       Pantuflas          155.28                  5   \n",
       "4               Ropa        Camiseta           11.24                  2   \n",
       "\n",
       "  total_orden         metodo_pago region_envio  \n",
       "0      301.94            Efectivo       Centro  \n",
       "1      473.97            Efectivo        Norte  \n",
       "2       81.20              PayPal       Centro  \n",
       "3      776.40            Efectivo        Oeste  \n",
       "4       22.48  Tarjeta de crédito       Centro  "
      ]
     },
     "execution_count": 20,
     "metadata": {},
     "output_type": "execute_result"
    }
   ],
   "source": [
    "import pandas as pd\n",
    "import mysql.connector\n",
    "\n",
    "# Conectar a la base de datos MySQL\n",
    "conexion = mysql.connector.connect(\n",
    "    host=\"34.172.242.238\", \n",
    "    user=\"root\",        \n",
    "    password=\"gerenciales13\",  \n",
    "    database=\"practica13\" \n",
    ")\n",
    "\n",
    "# Crear el cursor\n",
    "cursor = conexion.cursor()\n",
    "\n",
    "# Definir la consulta SQL para obtener los datos\n",
    "consulta = \"\"\"\n",
    "SELECT id_orden, fecha_compra, id_cliente, genero_cliente, edad_cliente, \n",
    "       categoria_producto, nombre_producto, precio_producto, cantidad_comprada, \n",
    "       total_orden, metodo_pago, region_envio\n",
    "FROM ventas\n",
    "\"\"\"\n",
    "\n",
    "# Ejecutar la consulta\n",
    "cursor.execute(consulta)\n",
    "\n",
    "# Obtener los resultados y cargarlos en un DataFrame\n",
    "columnas = [col[0] for col in cursor.description]  # Obtener nombres de las columnas\n",
    "datos = cursor.fetchall()  # Obtener todos los datos\n",
    "df = pd.DataFrame(datos, columns=columnas)\n",
    "\n",
    "# Cerrar la conexión\n",
    "cursor.close()\n",
    "conexion.close()\n",
    "\n",
    "# Verificar los primeros registros\n",
    "df.head()\n"
   ]
  },
  {
   "cell_type": "markdown",
   "metadata": {},
   "source": [
    "\n",
    "## Calcular estadísticas básicas (media, mediana, moda) para las variables numéricas"
   ]
  },
  {
   "cell_type": "markdown",
   "metadata": {},
   "source": [
    "Calculamos la media, mediana y moda de las columnas del dataframe que son de tipo numerico de la siguiente forma:"
   ]
  },
  {
   "cell_type": "code",
   "execution_count": 21,
   "metadata": {},
   "outputs": [
    {
     "name": "stdout",
     "output_type": "stream",
     "text": [
      "Media del precio: 104.90981457351909\n",
      "Mediana del precio: 104.84\n",
      "Moda del precio: 17.97\n",
      "Media de la edad: 48.320637466172194\n",
      "Mediana de la edad: 48.0\n",
      "Moda de la edad: 32\n"
     ]
    }
   ],
   "source": [
    "# Calcular estadísticas básicas\n",
    "media_precio = df['precio_producto'].mean()\n",
    "mediana_precio = df['precio_producto'].median()\n",
    "moda_precio = df['precio_producto'].mode()[0]\n",
    "\n",
    "media_edad = df['edad_cliente'].mean()\n",
    "mediana_edad = df['edad_cliente'].median()\n",
    "moda_edad = df['edad_cliente'].mode()[0]\n",
    "\n",
    "print(f\"Media del precio: {media_precio}\")\n",
    "print(f\"Mediana del precio: {mediana_precio}\")\n",
    "print(f\"Moda del precio: {moda_precio}\")\n",
    "\n",
    "print(f\"Media de la edad: {media_edad}\")\n",
    "print(f\"Mediana de la edad: {mediana_edad}\")\n",
    "print(f\"Moda de la edad: {moda_edad}\")\n"
   ]
  },
  {
   "cell_type": "markdown",
   "metadata": {},
   "source": [
    "# Crear visualizaciones para mostrar la distribución de ventas por categoría de producto y región.\n",
    "instalamos librerias seaborn y matplotlib para poder realizar las respectivas graficas\n"
   ]
  },
  {
   "cell_type": "code",
   "execution_count": 22,
   "metadata": {},
   "outputs": [
    {
     "data": {
      "image/png": "[encoded data removed]",
      "text/plain": [
       "<Figure size 1000x600 with 1 Axes>"
      ]
     },
     "metadata": {},
     "output_type": "display_data"
    }
   ],
   "source": [
    "import seaborn as sns\n",
    "import matplotlib.pyplot as plt\n",
    "\n",
    "\n",
    "# Visualizar la distribución de ventas por región de envío\n",
    "plt.figure(figsize=(10, 6))\n",
    "sns.countplot(x='categoria_producto', data=df, hue='region_envio', palette='viridis')\n",
    "plt.title('Distribución de ventas por categoría de producto según región')\n",
    "plt.xticks(rotation=45)\n",
    "plt.show()\n"
   ]
  }
 ],
 "metadata": {
  "kernelspec": {
   "display_name": "Python 3",
   "language": "python",
   "name": "python3"
  },
  "language_info": {
   "codemirror_mode": {
    "name": "ipython",
    "version": 3
   },
   "file_extension": ".py",
   "mimetype": "text/x-python",
   "name": "python",
   "nbconvert_exporter": "python",
   "pygments_lexer": "ipython3",
   "version": "3.12.3"
  }
 },
 "nbformat": 4,
 "nbformat_minor": 2
}
